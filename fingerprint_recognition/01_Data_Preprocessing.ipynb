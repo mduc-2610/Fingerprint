{
 "cells": [
  {
   "cell_type": "code",
   "execution_count": 1,
   "metadata": {},
   "outputs": [],
   "source": [
    "import glob, os\n",
    "import cv2\n",
    "import matplotlib.pyplot as plt\n",
    "import numpy as np"
   ]
  },
  {
   "cell_type": "markdown",
   "metadata": {},
   "source": [
    "Following two similar functions, extract_label and extract_label_alt, with only slight differences in how the filename is split and processed.\n",
    "\n",
    "Functions extract specific information (subject ID, gender, left/right hand, and finger type) from an image filename. \n",
    "The filename follows a structured format, defined by the original SOCOFing dataset, where components are separated by underscores and double underscores. \n",
    "The functions split the filename into meaningful parts and convert string-based information (e.g., gender, hand, finger) into numerical labels for easier processing, for machine learning purposes."
   ]
  },
  {
   "cell_type": "code",
   "execution_count": 2,
   "metadata": {},
   "outputs": [],
   "source": [
    "def extract_label(img_path):\n",
    "    \"\"\"\n",
    "    Extract subject ID, gender, hand (left/right), and finger type from image filename.\n",
    "\n",
    "    Args:\n",
    "        img_path (str): Path to the image file.\n",
    "\n",
    "    Returns:\n",
    "        np.ndarray: Array containing subject ID, gender (0: male, 1: female),\n",
    "                    hand (0: left, 1: right), and finger (0-4 for thumb to little finger).\n",
    "    \"\"\"\n",
    "    filename = os.path.splitext(os.path.basename(img_path))[0]\n",
    "    \n",
    "    subject_id, etc = filename.split('__')\n",
    "    gender_str, hand_str, finger_str, _ = etc.split('_')\n",
    "\n",
    "    gender = 0 if gender_str == 'M' else 1\n",
    "    hand = 0 if hand_str == 'Left' else 1\n",
    "    finger_map = {'thumb': 0, 'index': 1, 'middle': 2, 'ring': 3, 'little': 4}\n",
    "    finger = finger_map.get(finger_str, -1)\n",
    "\n",
    "    return np.array([subject_id, gender, hand, finger], dtype=np.uint16)\n",
    "\n",
    "\n",
    "def extract_label_alt(img_path):\n",
    "    \"\"\"\n",
    "    Similar to extract_label but extracts the filename using a different split format.\n",
    "    \n",
    "    Args:\n",
    "        img_path (str): Path to the image file.\n",
    "\n",
    "    Returns:\n",
    "        np.ndarray: Array containing subject ID, gender, hand, and finger.\n",
    "    \"\"\"\n",
    "    filename = os.path.splitext(os.path.basename(img_path))[0]\n",
    "    \n",
    "    subject_id, etc = filename.split('__')\n",
    "    gender_str, hand_str, finger_str, *_ = etc.split('_')\n",
    "\n",
    "    gender = 0 if gender_str == 'M' else 1\n",
    "    hand = 0 if hand_str == 'Left' else 1\n",
    "    finger_map = {'thumb': 0, 'index': 1, 'middle': 2, 'ring': 3, 'little': 4}\n",
    "    finger = finger_map.get(finger_str, -1)\n",
    "\n",
    "    return np.array([subject_id, gender, hand, finger], dtype=np.uint16)"
   ]
  },
  {
   "cell_type": "markdown",
   "metadata": {},
   "source": [
    "The following code is designed to preprocess and prepare a dataset of fingerprint images for machine learning tasks. It specifically focuses on images from the \"SOCOFing/Real\" directory, which are assumed to contain real fingerprint images.\n",
    "\n",
    "The code performs the following steps:\n",
    "\n",
    "1. Loads and sorts the image files.\n",
    "2. Pre-allocates arrays to store the images and their corresponding labels.\n",
    "3. Iterates through each image, reads it, resizes it, and extracts its label.\n",
    "4. Stores the processed images and labels in NumPy arrays.\n",
    "5. Visualizes a sample image and its label for inspection.\n",
    "\n",
    "The resulting processed dataset is saved as x_real.npy (images) and y_real.npy (labels), ready to be used for training or testing a machine learning model for fingerprint recognition or classification tasks."
   ]
  },
  {
   "cell_type": "code",
   "execution_count": 3,
   "metadata": {},
   "outputs": [
    {
     "name": "stdout",
     "output_type": "stream",
     "text": [
      "6000\n"
     ]
    },
    {
     "data": {
      "image/png": "[encoded data removed]",
      "text/plain": [
       "<Figure size 100x100 with 1 Axes>"
      ]
     },
     "metadata": {},
     "output_type": "display_data"
    }
   ],
   "source": [
    "## Real pictures\n",
    " \n",
    "# Load and sort the image paths\n",
    "img_list = sorted(glob.glob('../dataset/SOCOFing/Real/*.BMP'))\n",
    "print(len(img_list))\n",
    "\n",
    "# Pre-allocate arrays for images and labels\n",
    "num_images = len(img_list)\n",
    "image_shape = (90, 90)\n",
    "label_shape = (4,)\n",
    "\n",
    "imgs = np.empty((num_images, *image_shape), dtype=np.uint8)\n",
    "labels = np.empty((num_images, *label_shape), dtype=np.uint16)\n",
    "\n",
    "# Process images and extract labels\n",
    "for i, img_path in enumerate(img_list):\n",
    "    # Read the image in grayscale\n",
    "    img = cv2.imread(img_path, cv2.IMREAD_GRAYSCALE)\n",
    "\n",
    "    # Resize the image to a fixed size\n",
    "    img = cv2.resize(img, image_shape)\n",
    "\n",
    "    # Store the image in the imgs array\n",
    "    imgs[i] = img\n",
    "\n",
    "    # Extract the label from the image path\n",
    "    labels[i] = extract_label(img_path)\n",
    "os.makedirs('dataset', exist_ok=True)\n",
    "# Save the processed data\n",
    "np.save('dataset/x_real.npy', imgs)\n",
    "np.save('dataset/y_real.npy', labels)\n",
    "\n",
    "# Visualize a sample image and its label\n",
    "plt.figure(figsize=(1, 1))\n",
    "plt.title(labels[-1])\n",
    "plt.imshow(imgs[-1], cmap='gray')\n",
    "plt.show()"
   ]
  },
  {
   "cell_type": "code",
   "execution_count": 4,
   "metadata": {},
   "outputs": [
    {
     "name": "stdout",
     "output_type": "stream",
     "text": [
      "17931\n"
     ]
    },
    {
     "data": {
      "image/png": "[encoded data removed]",
      "text/plain": [
       "<Figure size 100x100 with 1 Axes>"
      ]
     },
     "metadata": {},
     "output_type": "display_data"
    }
   ],
   "source": [
    "## Altered Pictures - Easy\n",
    " \n",
    "# Define data path and target size\n",
    "data_path = \"../dataset/SOCOFing/Altered/Altered-Easy/*.BMP\"\n",
    "target_size = (90, 90)\n",
    "\n",
    "# Load image paths (sorted)\n",
    "image_paths = sorted(glob.glob(data_path))\n",
    "\n",
    "# Check for empty dataset\n",
    "if not image_paths:\n",
    "    raise ValueError(\"No images found in the specified path!\")\n",
    "\n",
    "# Pre-allocate arrays for efficiency\n",
    "num_images = len(image_paths)\n",
    "print(num_images)\n",
    "\n",
    "images = np.empty((num_images, *target_size), dtype=np.uint8)\n",
    "labels = np.empty((num_images, 4), dtype=np.uint16)\n",
    "\n",
    "# Load images and labels\n",
    "for i, image_path in enumerate(image_paths):\n",
    "    # Load grayscale image\n",
    "    image = cv2.imread(image_path, cv2.IMREAD_GRAYSCALE)\n",
    "\n",
    "    # Resize image\n",
    "    image = cv2.resize(image, target_size)\n",
    "\n",
    "    # Store image and label\n",
    "    images[i] = image\n",
    "    labels[i] = extract_label_alt(image_path)  # Assuming extract_label_alt exists\n",
    "\n",
    "# Save data\n",
    "np.save(\"dataset/x_easy.npy\", images)\n",
    "np.save(\"dataset/y_easy.npy\", labels)\n",
    "\n",
    "# Display last image (optional)\n",
    "plt.figure(figsize=(1, 1))\n",
    "plt.title(f\"Label: {labels[-1]}\")  # Use f-string for clear formatting\n",
    "plt.imshow(images[-1], cmap=\"gray\")\n",
    "plt.axis(\"off\")  # Hide unnecessary axes for cleaner visualization\n",
    "plt.show()"
   ]
  },
  {
   "cell_type": "code",
   "execution_count": 5,
   "metadata": {},
   "outputs": [
    {
     "name": "stdout",
     "output_type": "stream",
     "text": [
      "17067\n"
     ]
    },
    {
     "data": {
      "image/png": "[encoded data removed]",
      "text/plain": [
       "<Figure size 100x100 with 1 Axes>"
      ]
     },
     "metadata": {},
     "output_type": "display_data"
    }
   ],
   "source": [
    "## Altered Pictures - Medium\n",
    "\n",
    "# Define data path and target size\n",
    "data_path = \"../dataset/SOCOFing/Altered/Altered-Medium/*.BMP\"\n",
    "target_size = (90, 90)\n",
    "\n",
    "# Load image paths (sorted)\n",
    "image_paths = sorted(glob.glob(data_path))\n",
    "\n",
    "# Check for empty dataset\n",
    "if not image_paths:\n",
    "    raise ValueError(\"No images found in the specified path!\")\n",
    "\n",
    "# Pre-allocate arrays for efficiency\n",
    "num_images = len(image_paths)\n",
    "print(num_images)\n",
    "images = np.empty((num_images, *target_size), dtype=np.uint8)\n",
    "labels = np.empty((num_images, 4), dtype=np.uint16)\n",
    "\n",
    "# Load images and labels\n",
    "for i, image_path in enumerate(image_paths):\n",
    "    # Load grayscale image\n",
    "    image = cv2.imread(image_path, cv2.IMREAD_GRAYSCALE)\n",
    "\n",
    "    # Resize image\n",
    "    image = cv2.resize(image, target_size)\n",
    "\n",
    "    # Store image and label\n",
    "    images[i] = image\n",
    "    labels[i] = extract_label_alt(image_path)  # Assuming extract_label_alt exists\n",
    "\n",
    "# Save data\n",
    "np.save(\"dataset/x_medium.npy\", images)\n",
    "np.save(\"dataset/y_medium.npy\", labels)\n",
    "\n",
    "# Display last image (optional)\n",
    "plt.figure(figsize=(1, 1))\n",
    "plt.title(f\"Label: {labels[-1]}\")  # Use f-string for clear formatting\n",
    "plt.imshow(images[-1], cmap=\"gray\")\n",
    "plt.axis(\"off\")  # Hide unnecessary axes for cleaner visualization\n",
    "plt.show()"
   ]
  },
  {
   "cell_type": "code",
   "execution_count": 6,
   "metadata": {},
   "outputs": [
    {
     "name": "stdout",
     "output_type": "stream",
     "text": [
      "14272\n"
     ]
    },
    {
     "data": {
      "image/png": "[encoded data removed]",
      "text/plain": [
       "<Figure size 100x100 with 1 Axes>"
      ]
     },
     "metadata": {},
     "output_type": "display_data"
    }
   ],
   "source": [
    "## Altered Pictures - Hard\n",
    " \n",
    "# Define data path and target size\n",
    "data_path = \"../dataset/SOCOFing/Altered/Altered-Hard/*.BMP\"\n",
    "target_size = (90, 90)\n",
    "\n",
    "# Load image paths (sorted)\n",
    "image_paths = sorted(glob.glob(data_path))\n",
    "\n",
    "# Check for empty dataset\n",
    "if not image_paths:\n",
    "    raise ValueError(\"No images found in the specified path!\")\n",
    "\n",
    "# Pre-allocate arrays for efficiency\n",
    "num_images = len(image_paths)\n",
    "print(num_images)\n",
    "images = np.empty((num_images, *target_size), dtype=np.uint8)\n",
    "labels = np.empty((num_images, 4), dtype=np.uint16)\n",
    "\n",
    "# Load images and labels\n",
    "for i, image_path in enumerate(image_paths):\n",
    "    # Load grayscale image\n",
    "    image = cv2.imread(image_path, cv2.IMREAD_GRAYSCALE)\n",
    "\n",
    "    # Resize image\n",
    "    image = cv2.resize(image, target_size)\n",
    "\n",
    "    # Store image and label\n",
    "    images[i] = image\n",
    "    labels[i] = extract_label_alt(image_path)  # Assuming extract_label_alt exists\n",
    "\n",
    "# Save data\n",
    "np.save(\"dataset/x_hard.npy\", images)\n",
    "np.save(\"dataset/y_hard.npy\", labels)\n",
    "\n",
    "# Display last image (optional)\n",
    "plt.figure(figsize=(1, 1))\n",
    "plt.title(f\"Label: {labels[-1]}\")  # Use f-string for clear formatting\n",
    "plt.imshow(images[-1], cmap=\"gray\")\n",
    "plt.axis(\"off\")  # Hide unnecessary axes for cleaner visualization\n",
    "plt.show()"
   ]
  },
  {
   "cell_type": "code",
   "execution_count": null,
   "metadata": {},
   "outputs": [],
   "source": []
  }
 ],
 "metadata": {
  "kernelspec": {
   "display_name": "env",
   "language": "python",
   "name": "python3"
  },
  "language_info": {
   "codemirror_mode": {
    "name": "ipython",
    "version": 3
   },
   "file_extension": ".py",
   "mimetype": "text/x-python",
   "name": "python",
   "nbconvert_exporter": "python",
   "pygments_lexer": "ipython3",
   "version": "3.11.7"
  }
 },
 "nbformat": 4,
 "nbformat_minor": 2
}
